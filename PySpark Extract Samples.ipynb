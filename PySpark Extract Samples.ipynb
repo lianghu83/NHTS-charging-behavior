{
 "cells": [
  {
   "cell_type": "code",
   "execution_count": 1,
   "metadata": {},
   "outputs": [],
   "source": [
    "#find dir where Spark is installed\n",
    "import findspark\n",
    "findspark.init()"
   ]
  },
  {
   "cell_type": "code",
   "execution_count": 3,
   "metadata": {},
   "outputs": [],
   "source": [
    "from pyspark.sql import SparkSession\n",
    "from pyspark.sql import functions as F\n",
    "import sys\n",
    "from pyspark.sql.window import Window\n",
    "from pyspark.sql import SQLContext"
   ]
  },
  {
   "cell_type": "code",
   "execution_count": 4,
   "metadata": {},
   "outputs": [],
   "source": [
    "#initiate a Spark session\n",
    "spark = SparkSession.builder.appName(\"NHTS\").getOrCreate()"
   ]
  },
  {
   "cell_type": "code",
   "execution_count": 6,
   "metadata": {},
   "outputs": [],
   "source": [
    "#read data as Spark dataframe\n",
    "path = '/Users/LiangHu/Downloads/NHTS/'\n",
    "trip = spark.read.csv(path+'trippub.csv', inferSchema=True, header=True)"
   ]
  },
  {
   "cell_type": "code",
   "execution_count": 7,
   "metadata": {},
   "outputs": [
    {
     "name": "stdout",
     "output_type": "stream",
     "text": [
      "root\n",
      " |-- HOUSEID: integer (nullable = true)\n",
      " |-- PERSONID: integer (nullable = true)\n",
      " |-- TDTRPNUM: integer (nullable = true)\n",
      " |-- STRTTIME: integer (nullable = true)\n",
      " |-- ENDTIME: integer (nullable = true)\n",
      " |-- TRVLCMIN: integer (nullable = true)\n",
      " |-- TRPMILES: double (nullable = true)\n",
      " |-- TRPTRANS: integer (nullable = true)\n",
      " |-- TRPACCMP: integer (nullable = true)\n",
      " |-- TRPHHACC: integer (nullable = true)\n",
      " |-- VEHID: integer (nullable = true)\n",
      " |-- TRWAITTM: integer (nullable = true)\n",
      " |-- NUMTRANS: integer (nullable = true)\n",
      " |-- TRACCTM: integer (nullable = true)\n",
      " |-- DROP_PRK: integer (nullable = true)\n",
      " |-- TREGRTM: integer (nullable = true)\n",
      " |-- WHODROVE: integer (nullable = true)\n",
      " |-- WHYFROM: integer (nullable = true)\n",
      " |-- LOOP_TRIP: integer (nullable = true)\n",
      " |-- TRPHHVEH: integer (nullable = true)\n",
      " |-- HHMEMDRV: integer (nullable = true)\n",
      " |-- HH_ONTD: integer (nullable = true)\n",
      " |-- NONHHCNT: integer (nullable = true)\n",
      " |-- NUMONTRP: integer (nullable = true)\n",
      " |-- PSGR_FLG: integer (nullable = true)\n",
      " |-- PUBTRANS: integer (nullable = true)\n",
      " |-- TRIPPURP: string (nullable = true)\n",
      " |-- DWELTIME: integer (nullable = true)\n",
      " |-- TDWKND: integer (nullable = true)\n",
      " |-- VMT_MILE: double (nullable = true)\n",
      " |-- DRVR_FLG: integer (nullable = true)\n",
      " |-- WHYTRP1S: integer (nullable = true)\n",
      " |-- WHYTRP90: integer (nullable = true)\n",
      " |-- ONTD_P1: integer (nullable = true)\n",
      " |-- ONTD_P2: integer (nullable = true)\n",
      " |-- ONTD_P3: integer (nullable = true)\n",
      " |-- ONTD_P4: integer (nullable = true)\n",
      " |-- ONTD_P5: integer (nullable = true)\n",
      " |-- ONTD_P6: integer (nullable = true)\n",
      " |-- ONTD_P7: integer (nullable = true)\n",
      " |-- ONTD_P8: integer (nullable = true)\n",
      " |-- ONTD_P9: integer (nullable = true)\n",
      " |-- ONTD_P10: integer (nullable = true)\n",
      " |-- ONTD_P11: integer (nullable = true)\n",
      " |-- ONTD_P12: integer (nullable = true)\n",
      " |-- ONTD_P13: integer (nullable = true)\n",
      " |-- TDCASEID: long (nullable = true)\n",
      " |-- TRACC_WLK: integer (nullable = true)\n",
      " |-- TRACC_POV: integer (nullable = true)\n",
      " |-- TRACC_BUS: integer (nullable = true)\n",
      " |-- TRACC_CRL: integer (nullable = true)\n",
      " |-- TRACC_SUB: integer (nullable = true)\n",
      " |-- TRACC_OTH: integer (nullable = true)\n",
      " |-- TREGR_WLK: integer (nullable = true)\n",
      " |-- TREGR_POV: integer (nullable = true)\n",
      " |-- TREGR_BUS: integer (nullable = true)\n",
      " |-- TREGR_CRL: integer (nullable = true)\n",
      " |-- TREGR_SUB: integer (nullable = true)\n",
      " |-- TREGR_OTH: integer (nullable = true)\n",
      " |-- WHYTO: integer (nullable = true)\n",
      " |-- TRAVDAY: integer (nullable = true)\n",
      " |-- HOMEOWN: integer (nullable = true)\n",
      " |-- HHSIZE: integer (nullable = true)\n",
      " |-- HHVEHCNT: integer (nullable = true)\n",
      " |-- HHFAMINC: integer (nullable = true)\n",
      " |-- DRVRCNT: integer (nullable = true)\n",
      " |-- HHSTATE: string (nullable = true)\n",
      " |-- HHSTFIPS: integer (nullable = true)\n",
      " |-- NUMADLT: integer (nullable = true)\n",
      " |-- WRKCOUNT: integer (nullable = true)\n",
      " |-- TDAYDATE: integer (nullable = true)\n",
      " |-- HHRESP: integer (nullable = true)\n",
      " |-- LIF_CYC: integer (nullable = true)\n",
      " |-- MSACAT: integer (nullable = true)\n",
      " |-- MSASIZE: integer (nullable = true)\n",
      " |-- RAIL: integer (nullable = true)\n",
      " |-- URBAN: integer (nullable = true)\n",
      " |-- URBANSIZE: integer (nullable = true)\n",
      " |-- URBRUR: integer (nullable = true)\n",
      " |-- GASPRICE: double (nullable = true)\n",
      " |-- CENSUS_D: integer (nullable = true)\n",
      " |-- CENSUS_R: integer (nullable = true)\n",
      " |-- CDIVMSAR: integer (nullable = true)\n",
      " |-- HH_RACE: integer (nullable = true)\n",
      " |-- HH_HISP: integer (nullable = true)\n",
      " |-- HH_CBSA: string (nullable = true)\n",
      " |-- HBHTNRNT: integer (nullable = true)\n",
      " |-- HBPPOPDN: integer (nullable = true)\n",
      " |-- HBRESDN: integer (nullable = true)\n",
      " |-- HTEEMPDN: integer (nullable = true)\n",
      " |-- HTHTNRNT: integer (nullable = true)\n",
      " |-- HTPPOPDN: integer (nullable = true)\n",
      " |-- HTRESDN: integer (nullable = true)\n",
      " |-- SMPLSRCE: integer (nullable = true)\n",
      " |-- R_AGE: integer (nullable = true)\n",
      " |-- EDUC: integer (nullable = true)\n",
      " |-- R_SEX: integer (nullable = true)\n",
      " |-- PRMACT: integer (nullable = true)\n",
      " |-- PROXY: integer (nullable = true)\n",
      " |-- WORKER: integer (nullable = true)\n",
      " |-- DRIVER: integer (nullable = true)\n",
      " |-- WTTRDFIN: double (nullable = true)\n",
      "\n"
     ]
    }
   ],
   "source": [
    "trip.printSchema()"
   ]
  },
  {
   "cell_type": "code",
   "execution_count": 9,
   "metadata": {},
   "outputs": [
    {
     "data": {
      "text/plain": [
       "[Row(HOUSEID=30000007, PERSONID=1, TDTRPNUM=1, STRTTIME=1000, ENDTIME=1015, TRVLCMIN=15, TRPMILES=5.244, TRPTRANS=3, TRPACCMP=0, TRPHHACC=0, VEHID=3, TRWAITTM=-1, NUMTRANS=-1, TRACCTM=-1, DROP_PRK=-1, TREGRTM=-1, WHODROVE=1, WHYFROM=1, LOOP_TRIP=2, TRPHHVEH=1, HHMEMDRV=1, HH_ONTD=1, NONHHCNT=0, NUMONTRP=1, PSGR_FLG=2, PUBTRANS=2, TRIPPURP=u'HBO', DWELTIME=295, TDWKND=2, VMT_MILE=5.244, DRVR_FLG=1, WHYTRP1S=20, WHYTRP90=5, ONTD_P1=1, ONTD_P2=2, ONTD_P3=2, ONTD_P4=-1, ONTD_P5=-1, ONTD_P6=-1, ONTD_P7=-1, ONTD_P8=-1, ONTD_P9=-1, ONTD_P10=-1, ONTD_P11=-1, ONTD_P12=-1, ONTD_P13=-1, TDCASEID=300000070101, TRACC_WLK=-1, TRACC_POV=-1, TRACC_BUS=-1, TRACC_CRL=-1, TRACC_SUB=-1, TRACC_OTH=-1, TREGR_WLK=-1, TREGR_POV=-1, TREGR_BUS=-1, TREGR_CRL=-1, TREGR_SUB=-1, TREGR_OTH=-1, WHYTO=19, TRAVDAY=2, HOMEOWN=1, HHSIZE=3, HHVEHCNT=5, HHFAMINC=7, DRVRCNT=3, HHSTATE=u'NC', HHSTFIPS=37, NUMADLT=3, WRKCOUNT=1, TDAYDATE=201608, HHRESP=1, LIF_CYC=10, MSACAT=3, MSASIZE=1, RAIL=2, URBAN=1, URBANSIZE=1, URBRUR=1, GASPRICE=228.4, CENSUS_D=5, CENSUS_R=3, CDIVMSAR=53, HH_RACE=2, HH_HISP=2, HH_CBSA=u'XXXXX', HBHTNRNT=20, HBPPOPDN=1500, HBRESDN=750, HTEEMPDN=750, HTHTNRNT=50, HTPPOPDN=1500, HTRESDN=750, SMPLSRCE=2, R_AGE=67, EDUC=3, R_SEX=2, PRMACT=6, PROXY=1, WORKER=2, DRIVER=1, WTTRDFIN=75441.9057964227)]"
      ]
     },
     "execution_count": 9,
     "metadata": {},
     "output_type": "execute_result"
    }
   ],
   "source": [
    "#filter\n",
    "pov = trip.filter((trip['DRVR_FLG']==1) & (trip['TRPTRANS'].isin({3,4,5,6})))\n",
    "pov.head(1)"
   ]
  },
  {
   "cell_type": "code",
   "execution_count": 11,
   "metadata": {},
   "outputs": [
    {
     "data": {
      "text/plain": [
       "155133"
      ]
     },
     "execution_count": 11,
     "metadata": {},
     "output_type": "execute_result"
    }
   ],
   "source": [
    "#create unique vehicle ID\n",
    "pov = pov.withColumn('HOUSEID', pov['HOUSEID'].cast('long')) #convert integer to long\n",
    "pov = pov.withColumn('HOUSE_VEH_ID', 100*pov['HOUSEID']+pov['VEHID'])\n",
    "pov.select('HOUSE_VEH_ID').distinct().count()"
   ]
  },
  {
   "cell_type": "code",
   "execution_count": 12,
   "metadata": {},
   "outputs": [
    {
     "name": "stdout",
     "output_type": "stream",
     "text": [
      "+-------+------------------+\n",
      "|summary|          VMT_MILE|\n",
      "+-------+------------------+\n",
      "|  count|            607474|\n",
      "|   mean| 9.470340577530733|\n",
      "| stddev|29.261666871793306|\n",
      "|    min|              -1.0|\n",
      "|    max|          5441.489|\n",
      "+-------+------------------+\n",
      "\n"
     ]
    }
   ],
   "source": [
    "#summary trip distance\n",
    "pov = pov.withColumn('VMT_MILE', pov['VMT_MILE'].cast('float')) \n",
    "VMT_ub = pov.approxQuantile('VMT_MILE', probabilities=[0.999], relativeError=0)[0]\n",
    "pov.select('VMT_MILE').describe().show()"
   ]
  },
  {
   "cell_type": "code",
   "execution_count": 13,
   "metadata": {},
   "outputs": [],
   "source": [
    "#create ORIGIN based on WHYFROM\n",
    "ORIGIN = (F.when(pov['WHYFROM'].isin({1,2}), 'home')\\\n",
    "          .when(pov['WHYFROM'].isin({3,4}), 'work')\\\n",
    "          .when(pov['WHYFROM']>=5, 'public'))\n",
    "pov = pov.withColumn('ORIGIN', ORIGIN)"
   ]
  },
  {
   "cell_type": "code",
   "execution_count": 14,
   "metadata": {},
   "outputs": [],
   "source": [
    "#create DESTINATION based on WHYTRP1S\n",
    "DESTINATION = (F.when(pov['WHYTRP1S']==1, 'home')\\\n",
    "               .when(pov['WHYTRP1S']==10, 'work')\\\n",
    "               .when(pov['WHYTRP1S']>=20, 'public'))\n",
    "pov = pov.withColumn('DESTINATION', DESTINATION)"
   ]
  },
  {
   "cell_type": "code",
   "execution_count": 15,
   "metadata": {},
   "outputs": [
    {
     "name": "stdout",
     "output_type": "stream",
     "text": [
      "+------------+\n",
      "|HOUSE_VEH_ID|\n",
      "+------------+\n",
      "|  3026804701|\n",
      "|  4022766001|\n",
      "|  3020845502|\n",
      "+------------+\n",
      "only showing top 3 rows\n",
      "\n"
     ]
    },
    {
     "data": {
      "text/plain": [
       "[Row(HOUSEID=30000007, PERSONID=1, TDTRPNUM=1, STRTTIME=1000, ENDTIME=1015, TRVLCMIN=15, TRPMILES=5.244, TRPTRANS=3, TRPACCMP=0, TRPHHACC=0, VEHID=3, TRWAITTM=-1, NUMTRANS=-1, TRACCTM=-1, DROP_PRK=-1, TREGRTM=-1, WHODROVE=1, WHYFROM=1, LOOP_TRIP=2, TRPHHVEH=1, HHMEMDRV=1, HH_ONTD=1, NONHHCNT=0, NUMONTRP=1, PSGR_FLG=2, PUBTRANS=2, TRIPPURP=u'HBO', DWELTIME=295, TDWKND=2, VMT_MILE=5.24399995803833, DRVR_FLG=1, WHYTRP1S=20, WHYTRP90=5, ONTD_P1=1, ONTD_P2=2, ONTD_P3=2, ONTD_P4=-1, ONTD_P5=-1, ONTD_P6=-1, ONTD_P7=-1, ONTD_P8=-1, ONTD_P9=-1, ONTD_P10=-1, ONTD_P11=-1, ONTD_P12=-1, ONTD_P13=-1, TDCASEID=300000070101, TRACC_WLK=-1, TRACC_POV=-1, TRACC_BUS=-1, TRACC_CRL=-1, TRACC_SUB=-1, TRACC_OTH=-1, TREGR_WLK=-1, TREGR_POV=-1, TREGR_BUS=-1, TREGR_CRL=-1, TREGR_SUB=-1, TREGR_OTH=-1, WHYTO=19, TRAVDAY=2, HOMEOWN=1, HHSIZE=3, HHVEHCNT=5, HHFAMINC=7, DRVRCNT=3, HHSTATE=u'NC', HHSTFIPS=37, NUMADLT=3, WRKCOUNT=1, TDAYDATE=201608, HHRESP=1, LIF_CYC=10, MSACAT=3, MSASIZE=1, RAIL=2, URBAN=1, URBANSIZE=1, URBRUR=1, GASPRICE=228.4, CENSUS_D=5, CENSUS_R=3, CDIVMSAR=53, HH_RACE=2, HH_HISP=2, HH_CBSA=u'XXXXX', HBHTNRNT=20, HBPPOPDN=1500, HBRESDN=750, HTEEMPDN=750, HTHTNRNT=50, HTPPOPDN=1500, HTRESDN=750, SMPLSRCE=2, R_AGE=67, EDUC=3, R_SEX=2, PRMACT=6, PROXY=1, WORKER=2, DRIVER=1, WTTRDFIN=75441.9057964227, HOUSE_VEH_ID=3000000703, ORIGIN=u'home', DESTINATION=u'public')]"
      ]
     },
     "execution_count": 15,
     "metadata": {},
     "output_type": "execute_result"
    }
   ],
   "source": [
    "#remove missing values and errors, delete all affected HOUSE_VEH_ID\n",
    "VMT_MILE_flag = (F.when((pov['VMT_MILE']<0) | (pov['VMT_MILE']>VMT_ub), 0)\\\n",
    "                 .otherwise(1))\n",
    "pov = pov.withColumn('VMT_MILE_flag', VMT_MILE_flag)\n",
    "STRTTIME_flag = (F.when(pov['STRTTIME']<0, 0).otherwise(1))\n",
    "pov = pov.withColumn('STRTTIME_flag', STRTTIME_flag)\n",
    "ENDTIME_flag = (F.when(pov['ENDTIME']<0, 0).otherwise(1))\n",
    "pov = pov.withColumn('ENDTIME_flag', ENDTIME_flag)\n",
    "WHYTRP1S_flag = (F.when(pov['WHYTRP1S']<0, 0).otherwise(1))\n",
    "pov = pov.withColumn('WHYTRP1S_flag', WHYTRP1S_flag)\n",
    "WHYFROM_flag = (F.when(pov['WHYFROM']<0, 0).otherwise(1))\n",
    "pov = pov.withColumn('WHYFROM_flag', WHYFROM_flag)\n",
    "pov = pov.withColumn('flag', pov['VMT_MILE_flag']*pov['STRTTIME_flag']*pov['ENDTIME_flag']*pov['WHYTRP1S_flag']*pov['WHYFROM_flag'])\n",
    "temp = pov.select(['HOUSE_VEH_ID', 'flag'])\n",
    "temp = temp.groupBy('HOUSE_VEH_ID').mean('flag')\n",
    "temp = temp.withColumn('avg(flag)', temp['avg(flag)'].cast('integer'))\n",
    "temp = temp.filter(temp['avg(flag)']<1)\n",
    "Remove_HOUSE_VEH_ID = temp.select('HOUSE_VEH_ID')\n",
    "Remove_HOUSE_VEH_ID.show(3)\n",
    "Remove_HOUSE_VEH_ID = Remove_HOUSE_VEH_ID.rdd.flatMap(lambda x: x).collect()\n",
    "pov = pov.filter(~pov['HOUSE_VEH_ID'].isin(Remove_HOUSE_VEH_ID))\n",
    "drop_list = ['VMT_MILE_flag', 'STRTTIME_flag', 'ENDTIME_flag', 'WHYTRP1S_flag', 'WHYFROM_flag', 'flag']\n",
    "pov = pov.select([col for col in pov.columns if col not in drop_list])\n",
    "pov.head(1)"
   ]
  },
  {
   "cell_type": "code",
   "execution_count": 16,
   "metadata": {},
   "outputs": [],
   "source": [
    "#a day begins from 4am\n",
    "STRTTIME_new = (F.when(pov['STRTTIME']>=400, pov['STRTTIME']-400)\\\n",
    "                .otherwise(pov['STRTTIME']+2000))\n",
    "pov = pov.withColumn('STRTTIME_new', STRTTIME_new)\n",
    "ENDTIME_new = (F.when(pov['ENDTIME']>=400, pov['ENDTIME']-400)\\\n",
    "                .otherwise(pov['ENDTIME']+2000))\n",
    "pov = pov.withColumn('ENDTIME_new', ENDTIME_new)"
   ]
  },
  {
   "cell_type": "code",
   "execution_count": 17,
   "metadata": {},
   "outputs": [],
   "source": [
    "#order data by vehicle, by trip time\n",
    "pov = pov.orderBy(['HOUSE_VEH_ID', 'STRTTIME_new'])"
   ]
  },
  {
   "cell_type": "code",
   "execution_count": null,
   "metadata": {},
   "outputs": [],
   "source": [
    "#write\n",
    "pov.write.csv(path+'POV_spark.csv')"
   ]
  }
 ],
 "metadata": {
  "kernelspec": {
   "display_name": "Python 2",
   "language": "python",
   "name": "python2"
  },
  "language_info": {
   "codemirror_mode": {
    "name": "ipython",
    "version": 2
   },
   "file_extension": ".py",
   "mimetype": "text/x-python",
   "name": "python",
   "nbconvert_exporter": "python",
   "pygments_lexer": "ipython2",
   "version": "2.7.13"
  }
 },
 "nbformat": 4,
 "nbformat_minor": 2
}
